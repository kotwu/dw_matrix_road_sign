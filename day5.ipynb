{
  "nbformat": 4,
  "nbformat_minor": 0,
  "metadata": {
    "colab": {
      "name": "day5.ipynb",
      "provenance": [],
      "mount_file_id": "1SbppXHLfn6SrpJXNEcdAc08FoVPKudN-",
      "authorship_tag": "ABX9TyN24pKLcstourgb8g7Rc0EL"
    },
    "kernelspec": {
      "name": "python3",
      "display_name": "Python 3"
    },
    "accelerator": "GPU"
  },
  "cells": [
    {
      "cell_type": "code",
      "metadata": {
        "id": "h6Rvot_S-Z1x",
        "colab_type": "code",
        "colab": {
          "base_uri": "https://localhost:8080/",
          "height": 51
        },
        "outputId": "fbf76dba-513f-455a-b4a9-c0d08a120403"
      },
      "source": [
        "import pandas as pd\n",
        "import numpy as np\n",
        "import os\n",
        "import datetime\n",
        "\n",
        "import tensorflow as tf\n",
        "from tensorflow.keras.models import Sequential\n",
        "from tensorflow.keras.layers import Conv2D, MaxPool2D, Dense, Flatten, Dropout\n",
        "from tensorflow.keras.utils import to_categorical\n",
        "\n",
        "%load_ext tensorboard\n",
        "\n",
        "import matplotlib.pyplot as plt\n",
        "from skimage import color, exposure\n",
        "\n",
        "from sklearn.metrics import accuracy_score\n",
        "\n",
        "from hyperopt import hp, STATUS_OK, tpe, Trials, fmin"
      ],
      "execution_count": 15,
      "outputs": [
        {
          "output_type": "stream",
          "text": [
            "The tensorboard extension is already loaded. To reload it, use:\n",
            "  %reload_ext tensorboard\n"
          ],
          "name": "stdout"
        }
      ]
    },
    {
      "cell_type": "code",
      "metadata": {
        "id": "N8J1XvZb-xzh",
        "colab_type": "code",
        "colab": {
          "base_uri": "https://localhost:8080/",
          "height": 34
        },
        "outputId": "57ea5486-f889-4900-bde4-5b36a36f35d9"
      },
      "source": [
        "cd '/content/drive/My Drive/Colab Notebooks/dw_matrix/matrix_three/dw_matrix_road_sign'"
      ],
      "execution_count": 3,
      "outputs": [
        {
          "output_type": "stream",
          "text": [
            "/content/drive/My Drive/Colab Notebooks/dw_matrix/matrix_three/dw_matrix_road_sign\n"
          ],
          "name": "stdout"
        }
      ]
    },
    {
      "cell_type": "code",
      "metadata": {
        "id": "PFYsnoBj_I8H",
        "colab_type": "code",
        "colab": {}
      },
      "source": [
        "train = pd.read_pickle('data/train.p')\n",
        "test = pd.read_pickle('data/test.p')\n",
        "\n",
        "X_train, y_train = train['features'], train['labels']\n",
        "X_test, y_test = test['features'], test['labels']"
      ],
      "execution_count": 0,
      "outputs": []
    },
    {
      "cell_type": "code",
      "metadata": {
        "id": "8-qS1y-K_ML1",
        "colab_type": "code",
        "colab": {}
      },
      "source": [
        "if y_train.ndim == 1: y_train = to_categorical(y_train)\n",
        "if y_test.ndim == 1: y_test = to_categorical(y_test)\n",
        "\n",
        "input_shape = X_train.shape[1:]\n",
        "num_classes = y_train.shape[1]"
      ],
      "execution_count": 0,
      "outputs": []
    },
    {
      "cell_type": "code",
      "metadata": {
        "id": "VBj6wyri_Qqv",
        "colab_type": "code",
        "colab": {}
      },
      "source": [
        "def train_model(model, X_train, y_train, params_fit={}):   \n",
        "  model.compile(loss='categorical_crossentropy', optimizer='Adam', metrics=['accuracy'])\n",
        "  \n",
        "  logdir = os.path.join('logs', datetime.datetime.now().strftime('%y%m%d-%H%M%S'))\n",
        "  tensorboard_callback = tf.keras.callbacks.TensorBoard(logdir, histogram_freq=1)\n",
        "  \n",
        "  \n",
        "  model.fit(\n",
        "      X_train, \n",
        "      y_train,\n",
        "      batch_size = params_fit.get('batch_size', 128),\n",
        "      epochs = params_fit.get('epochs', 5),\n",
        "      verbose = params_fit.get('verbose', 1),\n",
        "      validation_data = params_fit.get('validation_data', (X_train, y_train)),\n",
        "      callbacks = [tensorboard_callback],  \n",
        "  )\n",
        "\n",
        "  return model\n",
        "\n",
        "def predict(model_trained, X_test, y_test, scoring=accuracy_score):\n",
        "  y_test_norm = np.argmax( y_test, axis=1)\n",
        "  y_pred_prob = model_trained.predict(X_test)\n",
        "  y_pred = np.argmax( y_pred_prob, axis=1)\n",
        "\n",
        "  return scoring(y_test_norm, y_pred)"
      ],
      "execution_count": 0,
      "outputs": []
    },
    {
      "cell_type": "code",
      "metadata": {
        "id": "NWZc92yY_pT4",
        "colab_type": "code",
        "colab": {}
      },
      "source": [
        "def get_cnn_v5(input_shape, num_classes):\n",
        "  return Sequential([\n",
        "    Conv2D(filters=32, kernel_size=(3,3), activation='relu', input_shape = input_shape),\n",
        "    Conv2D(filters=32, kernel_size=(3,3), activation='relu', padding='same'),\n",
        "    MaxPool2D(),\n",
        "    Dropout(0.3),\n",
        "\n",
        "    Conv2D(filters=64, kernel_size=(3,3), activation='relu', padding='same'),\n",
        "    Conv2D(filters=64, kernel_size=(3,3), activation='relu'),\n",
        "    MaxPool2D(),\n",
        "    Dropout(0.3),\n",
        "\n",
        "    Conv2D(filters=64, kernel_size=(3,3), activation='relu', padding='same'),\n",
        "    Conv2D(filters=64, kernel_size=(3,3), activation='relu'),\n",
        "    MaxPool2D(),\n",
        "    Dropout(0.3),\n",
        "\n",
        "    Flatten(),\n",
        "\n",
        "    Dense(1024, activation='relu'),                     \n",
        "    Dropout(0.3),\n",
        "\n",
        "    Dense(1024, activation='relu'),                     \n",
        "    Dropout(0.3),\n",
        "\n",
        "    Dense(num_classes, activation='softmax')\n",
        "  ])\n"
      ],
      "execution_count": 0,
      "outputs": []
    },
    {
      "cell_type": "code",
      "metadata": {
        "id": "afsJQuYS_wB8",
        "colab_type": "code",
        "colab": {
          "base_uri": "https://localhost:8080/",
          "height": 204
        },
        "outputId": "c023e2b4-ec14-4446-c529-dcbe6394cce9"
      },
      "source": [
        "model = get_cnn_v5(input_shape, num_classes)\n",
        "model_trained = train_model(model, X_train, y_train)\n",
        "\n",
        "predict(model_trained, X_test, y_test)"
      ],
      "execution_count": 13,
      "outputs": [
        {
          "output_type": "stream",
          "text": [
            "Epoch 1/5\n",
            "272/272 [==============================] - 5s 18ms/step - loss: 2.9405 - accuracy: 0.2285 - val_loss: 1.5270 - val_accuracy: 0.5044\n",
            "Epoch 2/5\n",
            "272/272 [==============================] - 5s 17ms/step - loss: 1.2722 - accuracy: 0.5871 - val_loss: 0.4818 - val_accuracy: 0.8560\n",
            "Epoch 3/5\n",
            "272/272 [==============================] - 5s 17ms/step - loss: 0.6057 - accuracy: 0.8133 - val_loss: 0.1360 - val_accuracy: 0.9637\n",
            "Epoch 4/5\n",
            "272/272 [==============================] - 5s 17ms/step - loss: 0.3535 - accuracy: 0.8921 - val_loss: 0.0862 - val_accuracy: 0.9763\n",
            "Epoch 5/5\n",
            "272/272 [==============================] - 5s 17ms/step - loss: 0.2528 - accuracy: 0.9226 - val_loss: 0.0628 - val_accuracy: 0.9828\n"
          ],
          "name": "stdout"
        },
        {
          "output_type": "execute_result",
          "data": {
            "text/plain": [
              "0.9591836734693877"
            ]
          },
          "metadata": {
            "tags": []
          },
          "execution_count": 13
        }
      ]
    },
    {
      "cell_type": "code",
      "metadata": {
        "id": "lE0swg5-EF9e",
        "colab_type": "code",
        "colab": {}
      },
      "source": [
        "def get_model(params):\n",
        "  return Sequential([\n",
        "    Conv2D(filters=32, kernel_size=(3,3), activation='relu', input_shape = input_shape),\n",
        "    Conv2D(filters=32, kernel_size=(3,3), activation='relu', padding='same'),\n",
        "    MaxPool2D(),\n",
        "    Dropout(params['dropout_cnn_block_one']),\n",
        "\n",
        "    Conv2D(filters=64, kernel_size=(3,3), activation='relu', padding='same'),\n",
        "    Conv2D(filters=64, kernel_size=(3,3), activation='relu'),\n",
        "    MaxPool2D(),\n",
        "    Dropout(params['dropout_cnn_block_two']),\n",
        "\n",
        "    Conv2D(filters=128, kernel_size=(3,3), activation='relu', padding='same'),\n",
        "    Conv2D(filters=128, kernel_size=(3,3), activation='relu'),\n",
        "    MaxPool2D(),\n",
        "    Dropout(params['dropout_cnn_block_three']),\n",
        "\n",
        "    Flatten(),\n",
        "\n",
        "    Dense(1024, activation='relu'),                     \n",
        "    Dropout(params['dropout_dense_block_one']),\n",
        "\n",
        "    Dense(1024, activation='relu'),                     \n",
        "    Dropout(params['dropout_dense_block_two']),\n",
        "\n",
        "    Dense(num_classes, activation='softmax')\n",
        "  ])\n"
      ],
      "execution_count": 0,
      "outputs": []
    },
    {
      "cell_type": "code",
      "metadata": {
        "id": "C0iGeaGaAV-M",
        "colab_type": "code",
        "colab": {}
      },
      "source": [
        "def func_obj(params):\n",
        "  model = get_model(params)\n",
        "  model.compile(loss='categorical_crossentropy', optimizer='Adam', metrics=['accuracy'])\n",
        "  \n",
        "  model.fit(\n",
        "      X_train, \n",
        "      y_train,\n",
        "      batch_size = int(params.get('batch_size', 128)),\n",
        "      epochs = 5,\n",
        "      verbose = 0,  \n",
        "  )\n",
        "\n",
        "  score  = model.evaluate(X_test, y_test, verbose=0)\n",
        "  accuracy = score[1]\n",
        "  print(params, 'accuracy={}'.format(accuracy))\n",
        "\n",
        "  return {'loss': -accuracy, 'status': STATUS_OK, 'model': model}"
      ],
      "execution_count": 0,
      "outputs": []
    },
    {
      "cell_type": "code",
      "metadata": {
        "id": "UL8vVcT1ClWI",
        "colab_type": "code",
        "colab": {
          "base_uri": "https://localhost:8080/",
          "height": 1000
        },
        "outputId": "7b4b9af0-3a94-47c3-e7f3-86159c4000fd"
      },
      "source": [
        "space = {\n",
        "    'batch_size': hp.quniform('batch_size', 100, 200, 10),\n",
        "    'dropout_cnn_block_one': hp.uniform('dropout_cnn_block_one', 0.3, 0.5),\n",
        "    'dropout_cnn_block_two': hp.uniform('dropout_cnn_block_two', 0.3, 0.5),\n",
        "    'dropout_cnn_block_three': hp.uniform('dropout_cnn_block_three', 0.3, 0.5),\n",
        "\n",
        "    'dropout_dense_block_one': hp.uniform('dropout_dense_block_one', 0.3, 0.7),\n",
        "    'dropout_dense_block_two': hp.uniform('dropout_dense_block_two', 0.3, 0.7),\n",
        "}\n",
        "\n",
        "best = fmin(\n",
        "    func_obj,\n",
        "    space,\n",
        "    tpe.suggest,\n",
        "    30,\n",
        "    Trials(),\n",
        ")"
      ],
      "execution_count": 29,
      "outputs": [
        {
          "output_type": "stream",
          "text": [
            "{'batch_size': 180.0, 'dropout_cnn_block_one': 0.3538262515042258, 'dropout_cnn_block_three': 0.34018462401900723, 'dropout_cnn_block_two': 0.39559500359530814, 'dropout_dense_block_one': 0.5068428013305013, 'dropout_dense_block_two': 0.5503776324356227}\n",
            "accuracy=0.9478458166122437\n",
            "{'batch_size': 100.0, 'dropout_cnn_block_one': 0.4909773364296268, 'dropout_cnn_block_three': 0.3233600543133675, 'dropout_cnn_block_two': 0.4646265837278438, 'dropout_dense_block_one': 0.6105703532307469, 'dropout_dense_block_two': 0.3591916537652406}\n",
            "accuracy=0.8895691633224487\n",
            "{'batch_size': 150.0, 'dropout_cnn_block_one': 0.4189320208146964, 'dropout_cnn_block_three': 0.4157661621722655, 'dropout_cnn_block_two': 0.44384983999612493, 'dropout_dense_block_one': 0.6938893176613581, 'dropout_dense_block_two': 0.30365938373022056}\n",
            "accuracy=0.8895691633224487\n",
            "{'batch_size': 100.0, 'dropout_cnn_block_one': 0.39301793210484454, 'dropout_cnn_block_three': 0.4748080119422176, 'dropout_cnn_block_two': 0.41097641000189744, 'dropout_dense_block_one': 0.5421689809706232, 'dropout_dense_block_two': 0.5542516553289047}\n",
            "accuracy=0.9383220076560974\n",
            "{'batch_size': 200.0, 'dropout_cnn_block_one': 0.49726741426933385, 'dropout_cnn_block_three': 0.348876364657366, 'dropout_cnn_block_two': 0.41975341609367633, 'dropout_dense_block_one': 0.31588418798053325, 'dropout_dense_block_two': 0.666916315928297}\n",
            "accuracy=0.9331066012382507\n",
            "{'batch_size': 170.0, 'dropout_cnn_block_one': 0.4321178953990159, 'dropout_cnn_block_three': 0.3599498996330318, 'dropout_cnn_block_two': 0.3414151980035556, 'dropout_dense_block_one': 0.3381212278452209, 'dropout_dense_block_two': 0.49919044845086313}\n",
            "accuracy=0.9424036145210266\n",
            "{'batch_size': 170.0, 'dropout_cnn_block_one': 0.45011851898260924, 'dropout_cnn_block_three': 0.31949028747895214, 'dropout_cnn_block_two': 0.41275146340739494, 'dropout_dense_block_one': 0.6317988457666948, 'dropout_dense_block_two': 0.6722240691307733}\n",
            "accuracy=0.7229024767875671\n",
            "{'batch_size': 120.0, 'dropout_cnn_block_one': 0.43801152037917424, 'dropout_cnn_block_three': 0.3350885412949634, 'dropout_cnn_block_two': 0.3170113747846953, 'dropout_dense_block_one': 0.5639605798698273, 'dropout_dense_block_two': 0.6270405381202386}\n",
            "accuracy=0.9455782175064087\n",
            "{'batch_size': 160.0, 'dropout_cnn_block_one': 0.3445906350265431, 'dropout_cnn_block_three': 0.3614866044681207, 'dropout_cnn_block_two': 0.4298477132872606, 'dropout_dense_block_one': 0.38639808942702314, 'dropout_dense_block_two': 0.6456178648414265}\n",
            "accuracy=0.9253968000411987\n",
            "{'batch_size': 140.0, 'dropout_cnn_block_one': 0.4257571263970138, 'dropout_cnn_block_three': 0.3585911834941047, 'dropout_cnn_block_two': 0.3668410956744965, 'dropout_dense_block_one': 0.6687677760830852, 'dropout_dense_block_two': 0.3406154408991744}\n",
            "accuracy=0.9394558072090149\n",
            "{'batch_size': 200.0, 'dropout_cnn_block_one': 0.4984270611072057, 'dropout_cnn_block_three': 0.30277961431649697, 'dropout_cnn_block_two': 0.3942192577914936, 'dropout_dense_block_one': 0.3935219645167238, 'dropout_dense_block_two': 0.33100753729113025}\n",
            "accuracy=0.9335600733757019\n",
            "{'batch_size': 140.0, 'dropout_cnn_block_one': 0.3980861150530909, 'dropout_cnn_block_three': 0.37250030983949456, 'dropout_cnn_block_two': 0.31792644333982445, 'dropout_dense_block_one': 0.3055201721073151, 'dropout_dense_block_two': 0.44736744430412795}\n",
            "accuracy=0.9478458166122437\n",
            "{'batch_size': 150.0, 'dropout_cnn_block_one': 0.38676681130878254, 'dropout_cnn_block_three': 0.3761968188357351, 'dropout_cnn_block_two': 0.37032549589107, 'dropout_dense_block_one': 0.5422853795243281, 'dropout_dense_block_two': 0.4289863876560734}\n",
            "accuracy=0.9190475940704346\n",
            "{'batch_size': 180.0, 'dropout_cnn_block_one': 0.3570510127212133, 'dropout_cnn_block_three': 0.48688935456698673, 'dropout_cnn_block_two': 0.41900489646521727, 'dropout_dense_block_one': 0.5117693060837459, 'dropout_dense_block_two': 0.6890031075433264}\n",
            "accuracy=0.8337868452072144\n",
            "{'batch_size': 140.0, 'dropout_cnn_block_one': 0.3682495448051317, 'dropout_cnn_block_three': 0.4470491486909995, 'dropout_cnn_block_two': 0.4241715636634392, 'dropout_dense_block_one': 0.3933349874371683, 'dropout_dense_block_two': 0.6640911224138026}\n",
            "accuracy=0.9376417398452759\n",
            "{'batch_size': 180.0, 'dropout_cnn_block_one': 0.3611530595171927, 'dropout_cnn_block_three': 0.37035039323870256, 'dropout_cnn_block_two': 0.46866819371271157, 'dropout_dense_block_one': 0.3704689823752514, 'dropout_dense_block_two': 0.353642335676804}\n",
            "accuracy=0.9594104290008545\n",
            "{'batch_size': 150.0, 'dropout_cnn_block_one': 0.46202658598005336, 'dropout_cnn_block_three': 0.4585846039368989, 'dropout_cnn_block_two': 0.42910780630319323, 'dropout_dense_block_one': 0.4047137781767769, 'dropout_dense_block_two': 0.5855828516763779}\n",
            "accuracy=0.6530612111091614\n",
            "{'batch_size': 110.0, 'dropout_cnn_block_one': 0.49797498997610334, 'dropout_cnn_block_three': 0.4460457870072134, 'dropout_cnn_block_two': 0.3027342675073897, 'dropout_dense_block_one': 0.5476625978716103, 'dropout_dense_block_two': 0.41426889452914917}\n",
            "accuracy=0.9374149441719055\n",
            "{'batch_size': 190.0, 'dropout_cnn_block_one': 0.37458436818866847, 'dropout_cnn_block_three': 0.4030132923114323, 'dropout_cnn_block_two': 0.3855206950321476, 'dropout_dense_block_one': 0.5177058444149957, 'dropout_dense_block_two': 0.5340321230325955}\n",
            "accuracy=0.9029478430747986\n",
            "{'batch_size': 160.0, 'dropout_cnn_block_one': 0.40995874561738443, 'dropout_cnn_block_three': 0.40162608959639606, 'dropout_cnn_block_two': 0.3882455853109729, 'dropout_dense_block_one': 0.5402336166333888, 'dropout_dense_block_two': 0.4883319694617725}\n",
            "accuracy=0.9435374140739441\n",
            "{'batch_size': 190.0, 'dropout_cnn_block_one': 0.30811832409080175, 'dropout_cnn_block_three': 0.303601507643585, 'dropout_cnn_block_two': 0.4946061078994141, 'dropout_dense_block_one': 0.47540530464522673, 'dropout_dense_block_two': 0.6033140787718649}\n",
            "accuracy=0.8873015642166138\n",
            "{'batch_size': 180.0, 'dropout_cnn_block_one': 0.31035627480473754, 'dropout_cnn_block_three': 0.37978659270697757, 'dropout_cnn_block_two': 0.4885130492271922, 'dropout_dense_block_one': 0.453634599700328, 'dropout_dense_block_two': 0.3905053542359362}\n",
            "accuracy=0.9251700639724731\n",
            "{'batch_size': 190.0, 'dropout_cnn_block_one': 0.33040381216053794, 'dropout_cnn_block_three': 0.3384411051603758, 'dropout_cnn_block_two': 0.4649886973946348, 'dropout_dense_block_one': 0.45460307411758016, 'dropout_dense_block_two': 0.47294935776878366}\n",
            "accuracy=0.9260770678520203\n",
            "{'batch_size': 180.0, 'dropout_cnn_block_one': 0.3289213456991494, 'dropout_cnn_block_three': 0.42423474418478024, 'dropout_cnn_block_two': 0.4525233776245075, 'dropout_dense_block_one': 0.35226958757154797, 'dropout_dense_block_two': 0.5361570664505424}\n",
            "accuracy=0.8866212964057922\n",
            "{'batch_size': 170.0, 'dropout_cnn_block_one': 0.3451195233198567, 'dropout_cnn_block_three': 0.38454427683641146, 'dropout_cnn_block_two': 0.35830277907115593, 'dropout_dense_block_one': 0.42705630898464175, 'dropout_dense_block_two': 0.5698318280650989}\n",
            "accuracy=0.9560090899467468\n",
            "{'batch_size': 170.0, 'dropout_cnn_block_one': 0.33231700670977554, 'dropout_cnn_block_three': 0.39138255265625543, 'dropout_cnn_block_two': 0.34850083103488283, 'dropout_dense_block_one': 0.4267923147486161, 'dropout_dense_block_two': 0.5895963068114111}\n",
            "accuracy=0.958276629447937\n",
            "{'batch_size': 160.0, 'dropout_cnn_block_one': 0.3226979646497711, 'dropout_cnn_block_three': 0.4222887743214384, 'dropout_cnn_block_two': 0.3374587400981126, 'dropout_dense_block_one': 0.35896020595226424, 'dropout_dense_block_two': 0.6202954823285632}\n",
            "accuracy=0.9358276724815369\n",
            "{'batch_size': 200.0, 'dropout_cnn_block_one': 0.3785953325611392, 'dropout_cnn_block_three': 0.39048400832100216, 'dropout_cnn_block_two': 0.4771499795616617, 'dropout_dense_block_one': 0.44345900296776974, 'dropout_dense_block_two': 0.38951817781026943}\n",
            "accuracy=0.9283446669578552\n",
            "{'batch_size': 180.0, 'dropout_cnn_block_one': 0.30137721748600393, 'dropout_cnn_block_three': 0.4104599673363978, 'dropout_cnn_block_two': 0.33188836800232197, 'dropout_dense_block_one': 0.3661657865178488, 'dropout_dense_block_two': 0.526747937852132}\n",
            "accuracy=0.9369614720344543\n",
            "{'batch_size': 130.0, 'dropout_cnn_block_one': 0.3580125588284006, 'dropout_cnn_block_three': 0.3943338082032792, 'dropout_cnn_block_two': 0.3591087788038927, 'dropout_dense_block_one': 0.47889322654958727, 'dropout_dense_block_two': 0.5859051804788027}\n",
            "accuracy=0.961904764175415\n",
            "100%|██████████| 30/30 [07:23<00:00, 14.80s/it, best loss: -0.961904764175415]\n"
          ],
          "name": "stdout"
        }
      ]
    },
    {
      "cell_type": "code",
      "metadata": {
        "id": "b3zn4O1kDogA",
        "colab_type": "code",
        "colab": {}
      },
      "source": [
        ""
      ],
      "execution_count": 0,
      "outputs": []
    }
  ]
}